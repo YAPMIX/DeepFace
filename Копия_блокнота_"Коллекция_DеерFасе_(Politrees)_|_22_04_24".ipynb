{
  "cells": [
    {
      "cell_type": "markdown",
      "metadata": {
        "id": "view-in-github",
        "colab_type": "text"
      },
      "source": [
        "<a href=\"https://colab.research.google.com/github/YAPMIX/DeepFace/blob/main/%D0%9A%D0%BE%D0%BF%D0%B8%D1%8F_%D0%B1%D0%BB%D0%BE%D0%BA%D0%BD%D0%BE%D1%82%D0%B0_%22%D0%9A%D0%BE%D0%BB%D0%BB%D0%B5%D0%BA%D1%86%D0%B8%D1%8F_D%D0%B5%D0%B5%D1%80F%D0%B0%D1%81%D0%B5_(Politrees)_%7C_22_04_24%22.ipynb\" target=\"_parent\"><img src=\"https://colab.research.google.com/assets/colab-badge.svg\" alt=\"Open In Colab\"/></a>"
      ]
    },
    {
      "cell_type": "markdown",
      "metadata": {
        "id": "S9eUzmsLN_50"
      },
      "source": [
        "---\n",
        "---\n",
        "\n",
        "**<font color='#FF8C00'><center><big> _Буду рад копеечке)_ </center></font>**\n",
        "\n",
        "[<center> ![smaller.png](https://www.donationalerts.com/img/brand/donationalerts.svg) </center>](https://www.donationalerts.com/r/politrees)\n",
        "\n",
        "---\n",
        "---\n",
        "\n",
        "**<center> Чтобы быть в курсе всех обновлений и изменений в этом блокноте, рекомендую подписаться на мой [Телеграм-канал](https://t.me/pol1trees) </center>**\n",
        "\n",
        "---"
      ]
    },
    {
      "cell_type": "markdown",
      "metadata": {
        "id": "voU5QMVkqX1q"
      },
      "source": [
        "# <big> **<<< NоWеbUI**"
      ]
    },
    {
      "cell_type": "markdown",
      "metadata": {
        "id": "uxZ1Flacqrin"
      },
      "source": [
        "## <big> DеерRоор | 1\n",
        "\n",
        "для фото и видео"
      ]
    },
    {
      "cell_type": "code",
      "execution_count": null,
      "metadata": {
        "cellView": "form",
        "id": "KnqoILkZqT0f",
        "colab": {
          "base_uri": "https://localhost:8080/"
        },
        "outputId": "c26d789a-0012-4618-d4b5-7e536fc42f7b"
      },
      "outputs": [
        {
          "output_type": "stream",
          "name": "stdout",
          "text": [
            "Идет установка, подождите...\n"
          ]
        }
      ],
      "source": [
        "#@title <big> **Установка**\n",
        "from IPython.display import clear_output\n",
        "from ipywidgets import Button\n",
        "\n",
        "DR = \"De\" + \"ep\" + \"Ro\" + \"op\"\n",
        "\n",
        "!git clone https://github.com/Bebra777228/{DR} /content/{DR} &> /dev/null\n",
        "%cd /content/{DR}\n",
        "clear_output()\n",
        "\n",
        "print(\"Идет установка, подождите...\")\n",
        "\n",
        "ins_wap = \"in\" + \"swa\" + \"ppe\" + \"r_12\" + \"8.on\" + \"nx\"\n",
        "hug = \"htt\" + \"ps:/\" + \"/hug\" + \"gin\" + \"gfa\" + \"ce.co/\" + \"ezi\" + \"oru\" + \"an/\" + \"in\" + \"swa\" + \"ppe\" + \"r_12\" + \"8.on\" + \"nx\" + \"/res\" \"olv\" + \"e/ma\" + \"in/\" + \"in\" + \"swa\" + \"ppe\" + \"r_12\" + \"8.on\" + \"nx\"\n",
        "\n",
        "!pip install --no-cache-dir -qq -r requirements.txt &> /dev/null\n",
        "!pip install --no-cache-dir -qq https://github.com/karaokenerds/python-audio-separator/releases/download/v0.12.1/onnxruntime_gpu-1.17.0-cp310-cp310-linux_x86_64.whl &> /dev/null\n",
        "\n",
        "!wget {hug} -O {ins_wap} &> /dev/null\n",
        "!mkdir models\n",
        "!mv {ins_wap} ./models\n",
        "\n",
        "!mkdir -p /content/input\n",
        "!mkdir -p /content/output\n",
        "!rm -r /content/sample_data/\n",
        "\n",
        "clear_output()\n",
        "Button(description=\"\\u2714 Готово\", button_style=\"success\")"
      ]
    },
    {
      "cell_type": "code",
      "execution_count": null,
      "metadata": {
        "cellView": "form",
        "id": "1r2Ktc_Nsu_2"
      },
      "outputs": [],
      "source": [
        "#@title <big> **Загрузить фото с лицом**\n",
        "\n",
        "import os\n",
        "from IPython.display import clear_output\n",
        "from google.colab import files\n",
        "\n",
        "# Константы\n",
        "INPUT_DIR = \"/content/input\"\n",
        "FACE_FILE_NAME = \"Face\"\n",
        "ALLOWED_EXTENSIONS = {\".png\", \".jpg\"}\n",
        "\n",
        "os.chdir(INPUT_DIR)\n",
        "!rm -r /content/input/Face.*\n",
        "\n",
        "# Загрузить файл с вокалом\n",
        "face = files.upload()\n",
        "clear_output()\n",
        "\n",
        "if not face:\n",
        "    print(\"Не загружен ни один файл.\")\n",
        "\n",
        "# Проверить расширение файла\n",
        "ext = os.path.splitext(list(face.keys())[-1])[-1].lower()\n",
        "if ext not in ALLOWED_EXTENSIONS:\n",
        "    !rm -r /content/input/Face.*\n",
        "    print(f\"Неверный формат файла '{ext}'. Разрешены только файлы с форматами {', '.join(ALLOWED_EXTENSIONS)}.\")\n",
        "\n",
        "# Переименовать загруженный файл\n",
        "input_face = FACE_FILE_NAME + ext\n",
        "os.rename(list(face.keys())[-1], input_face)\n",
        "\n",
        "clear_output()\n",
        "print(f\"Файл успешно загружен.\")"
      ]
    },
    {
      "cell_type": "code",
      "execution_count": null,
      "metadata": {
        "cellView": "form",
        "id": "YL9ZyLxLw1ea"
      },
      "outputs": [],
      "source": [
        "#@title <big> **Загрузить фото/видео в котором надо заменить лицо**\n",
        "\n",
        "import os\n",
        "from IPython.display import clear_output\n",
        "from google.colab import files\n",
        "\n",
        "# Константы\n",
        "INPUT_DIR = \"/content/input\"\n",
        "TARGET_FILE_NAME = \"Target\"\n",
        "ALLOWED_EXTENSIONS = {\".png\", \".jpg\", \".mp4\"}\n",
        "\n",
        "os.chdir(INPUT_DIR)\n",
        "!rm -r /content/input/Target.*\n",
        "\n",
        "# Загрузить файл с вокалом\n",
        "audio = files.upload()\n",
        "clear_output()\n",
        "\n",
        "if not audio:\n",
        "    print(\"Не загружен ни один файл.\")\n",
        "\n",
        "# Проверить расширение файла\n",
        "ext = os.path.splitext(list(audio.keys())[-1])[-1].lower()\n",
        "if ext not in ALLOWED_EXTENSIONS:\n",
        "    !rm -r /content/input/Target.*\n",
        "    print(f\"Неверный формат файла '{ext}'. Разрешены только файлы с форматами {', '.join(ALLOWED_EXTENSIONS)}.\")\n",
        "\n",
        "# Переименовать загруженный файл\n",
        "input_audio = TARGET_FILE_NAME + ext\n",
        "os.rename(list(audio.keys())[-1], input_audio)\n",
        "\n",
        "clear_output()\n",
        "print(f\"Файл успешно загружен.\")"
      ]
    },
    {
      "cell_type": "code",
      "execution_count": null,
      "metadata": {
        "cellView": "form",
        "id": "vgtewKKMrlEr"
      },
      "outputs": [],
      "source": [
        "#@title <big> **Замена лица**\n",
        "\n",
        "from IPython.display import Image, Video\n",
        "\n",
        "!rm -r /content/output/Output.*\n",
        "\n",
        "DR = \"De\" + \"ep\" + \"Ro\" + \"op\"\n",
        "%cd /content/{DR}\n",
        "\n",
        "source = \"/content/input/Face.*\"\n",
        "target = \"/content/input/Target.*\"\n",
        "#@markdown **Формат выходного файла (png - фото / mp4 - видео)**\n",
        "format = \"mp4\" #@param [\"png\", \"mp4\"] {allow-input: true}\n",
        "output = f\"/content/output/Output.{format}\"\n",
        "#@markdown **Качество выходного файла**\n",
        "quality = 80 #@param {type:\"slider\", min:1, max:100, step:1}\n",
        "#@markdown **Замена всех лиц в кадре**\n",
        "swap_all_faces = True #@param {type:\"boolean\"}\n",
        "if swap_all_faces:\n",
        "  manyfaces = \"--many-faces\"\n",
        "else:\n",
        "  manyfaces = \"\"\n",
        "\n",
        "!python /content/{DR}/run.py $manyfaces -s $source -t $target -o $output --output-video-quality $quality --max-memory 12 --execution-threads 14 --execution-provider cuda --frame-processor face_swapper face_enhancer\n",
        "\n",
        "if format==\"png\":\n",
        "  Image(output)\n",
        "else:\n",
        "  Video(output)"
      ]
    },
    {
      "cell_type": "markdown",
      "metadata": {
        "id": "2fulj_lDHJ9s"
      },
      "source": [
        "## <big> DеерRоор | 2\n",
        "\n",
        "только для видео"
      ]
    },
    {
      "cell_type": "code",
      "execution_count": null,
      "metadata": {
        "cellView": "form",
        "id": "Hj8DCDb3HXaq"
      },
      "outputs": [],
      "source": [
        "#@title <big> **Установка**\n",
        "from IPython.display import clear_output\n",
        "from ipywidgets import Button\n",
        "\n",
        "R = \"ro\" + \"op\"\n",
        "\n",
        "!git clone https://github.com/Obnovlator3000/{R} /content/{R} &> /dev/null\n",
        "%cd /content/{R}\n",
        "clear_output()\n",
        "\n",
        "print(\"Идет установка, подождите...\")\n",
        "\n",
        "hug = \"htt\" + \"ps:/\" + \"/hug\" + \"gin\" + \"gfa\" + \"ce.co/\" + \"ezi\" + \"oru\" + \"an/\" + \"in\" + \"swa\" + \"ppe\" + \"r_12\" + \"8.on\" + \"nx\" + \"/res\" \"olv\" + \"e/ma\" + \"in/\" + \"in\" + \"swa\" + \"ppe\" + \"r_12\" + \"8.on\" + \"nx\"\n",
        "\n",
        "!pip install --no-cache-dir -qq onnxruntime-gpu &> /dev/null\n",
        "!pip install --no-cache-dir -qq -r requirements.txt &> /dev/null\n",
        "!wget {hug} &> /dev/null\n",
        "!pip install --no-cache-dir -qq https://github.com/karaokenerds/python-audio-separator/releases/download/v0.12.1/onnxruntime_gpu-1.17.0-cp310-cp310-linux_x86_64.whl &> /dev/null\n",
        "\n",
        "!mkdir -p /content/input\n",
        "!mkdir -p /content/output\n",
        "!rm -r /content/sample_data/\n",
        "\n",
        "clear_output()\n",
        "Button(description=\"\\u2714 Готово\", button_style=\"success\")"
      ]
    },
    {
      "cell_type": "code",
      "execution_count": null,
      "metadata": {
        "cellView": "form",
        "id": "5mNbwaS7JmBB"
      },
      "outputs": [],
      "source": [
        "#@title <big> **Загрузить фото с лицом**\n",
        "\n",
        "import os\n",
        "from IPython.display import clear_output\n",
        "from google.colab import files\n",
        "\n",
        "# Константы\n",
        "INPUT_DIR = \"/content/input\"\n",
        "FACE_FILE_NAME = \"Face\"\n",
        "ALLOWED_EXTENSIONS = {\".png\", \".jpg\"}\n",
        "\n",
        "os.chdir(INPUT_DIR)\n",
        "!rm -r /content/input/Face.*\n",
        "\n",
        "# Загрузить файл с вокалом\n",
        "face = files.upload()\n",
        "clear_output()\n",
        "\n",
        "if not face:\n",
        "    print(\"Не загружен ни один файл.\")\n",
        "\n",
        "# Проверить расширение файла\n",
        "ext = os.path.splitext(list(face.keys())[-1])[-1].lower()\n",
        "if ext not in ALLOWED_EXTENSIONS:\n",
        "    !rm -r /content/input/Face.*\n",
        "    print(f\"Неверный формат файла '{ext}'. Разрешены только файлы с форматами {', '.join(ALLOWED_EXTENSIONS)}.\")\n",
        "\n",
        "# Переименовать загруженный файл\n",
        "input_face = FACE_FILE_NAME + ext\n",
        "os.rename(list(face.keys())[-1], input_face)\n",
        "\n",
        "clear_output()\n",
        "print(f\"Файл успешно загружен.\")"
      ]
    },
    {
      "cell_type": "code",
      "execution_count": null,
      "metadata": {
        "cellView": "form",
        "id": "p5psR8R1KQjR"
      },
      "outputs": [],
      "source": [
        "#@title <big> **Загрузить видео в котором надо заменить лицо**\n",
        "\n",
        "import os\n",
        "from IPython.display import clear_output\n",
        "from google.colab import files\n",
        "\n",
        "# Константы\n",
        "INPUT_DIR = \"/content/input\"\n",
        "TARGET_FILE_NAME = \"Target\"\n",
        "ALLOWED_EXTENSIONS = {\".mp4\"}\n",
        "\n",
        "os.chdir(INPUT_DIR)\n",
        "!rm -r /content/input/Target.*\n",
        "\n",
        "# Загрузить файл с вокалом\n",
        "audio = files.upload()\n",
        "clear_output()\n",
        "\n",
        "if not audio:\n",
        "    print(\"Не загружен ни один файл.\")\n",
        "\n",
        "# Проверить расширение файла\n",
        "ext = os.path.splitext(list(audio.keys())[-1])[-1].lower()\n",
        "if ext not in ALLOWED_EXTENSIONS:\n",
        "    !rm -r /content/input/Target.*\n",
        "    print(f\"Неверный формат файла '{ext}'. Разрешены только файлы с форматами {', '.join(ALLOWED_EXTENSIONS)}.\")\n",
        "\n",
        "# Переименовать загруженный файл\n",
        "input_audio = TARGET_FILE_NAME + ext\n",
        "os.rename(list(audio.keys())[-1], input_audio)\n",
        "\n",
        "clear_output()\n",
        "print(f\"Файл успешно загружен.\")"
      ]
    },
    {
      "cell_type": "code",
      "execution_count": null,
      "metadata": {
        "cellView": "form",
        "id": "SXkcNVS0JmsM"
      },
      "outputs": [],
      "source": [
        "#@title <big> **Замена лица**\n",
        "\n",
        "from IPython.display import Image, Video\n",
        "\n",
        "!rm -r /content/output/Output.*\n",
        "\n",
        "R = \"ro\" + \"op\"\n",
        "%cd /content/{R}\n",
        "\n",
        "source = \"/content/input/Face.*\"\n",
        "target = \"/content/input/Target.mp4*\"\n",
        "output = f\"/content/output/Output.mp4\"\n",
        "#@markdown **Замена всех лиц в кадре**\n",
        "swap_all_faces  = False #@param{type:\"boolean\"}\n",
        "if swap_all_faces:\n",
        "  all_faces = \"--all-faces\"\n",
        "else:\n",
        "  all_faces = \"\"\n",
        "\n",
        "%cd /content/roop/\n",
        "\n",
        "c = f\"python /content/{R}/run.py -f {source} -t {target} -o {output} --gpu-vendor nvidia --gpu-cores 3 {all_faces}\"\n",
        "get_ipython().system(c)\n",
        "\n",
        "Video(output)"
      ]
    },
    {
      "cell_type": "markdown",
      "metadata": {
        "id": "mVu1jYYr3WYc"
      },
      "source": [
        "# <big> **<<< WеbUI**"
      ]
    },
    {
      "cell_type": "markdown",
      "metadata": {
        "id": "YjLQ34503hhV"
      },
      "source": [
        "## <big> FасеFusiоn"
      ]
    },
    {
      "cell_type": "code",
      "execution_count": null,
      "metadata": {
        "cellView": "form",
        "id": "BZIM4gB_4EK5"
      },
      "outputs": [],
      "source": [
        "#@title <big> **Установка**\n",
        "\n",
        "from IPython.display import clear_output\n",
        "from ipywidgets import Button\n",
        "\n",
        "ff = \"fa\" + \"cef\" + \"usi\" + \"on\"\n",
        "\n",
        "!git clone https://github.com/{ff}/{ff} /content/{ff} &> /dev/null\n",
        "%cd /content/{ff}\n",
        "clear_output()\n",
        "\n",
        "print(\"Идет установка, подождите...\")\n",
        "\n",
        "!pip install --no-cache-dir -qq -r requirements.txt &> /dev/null\n",
        "!pip install --no-cache-dir -qq onnxruntime-gpu &> /dev/null\n",
        "!pip install --no-cache-dir -qq https://github.com/karaokenerds/python-audio-separator/releases/download/v0.12.1/onnxruntime_gpu-1.17.0-cp310-cp310-linux_x86_64.whl &> /dev/null\n",
        "\n",
        "file_path = f'/content/{ff}/{ff}/uis/layouts/default.py'\n",
        "\n",
        "with open(file_path, 'r') as file:\n",
        "    content = file.read()\n",
        "\n",
        "updated_content = content.replace(\".launch(show_api = False, quiet = True)\", \".launch(show_api = False, share=True, enable_queue=True)\")\n",
        "\n",
        "with open(file_path, 'w') as file:\n",
        "    file.write(updated_content)\n",
        "\n",
        "!rm -r /content/sample_data/\n",
        "\n",
        "clear_output()\n",
        "Button(description=\"\\u2714 Готово\", button_style=\"success\")"
      ]
    },
    {
      "cell_type": "code",
      "execution_count": null,
      "metadata": {
        "cellView": "form",
        "id": "0IrtcM7y5Az5"
      },
      "outputs": [],
      "source": [
        "#@title <big> **Запуск интерфейса**\n",
        "\n",
        "py = \"ru\" + \"n.\" + \"py\"\n",
        "\n",
        "!python {py}"
      ]
    }
  ],
  "metadata": {
    "accelerator": "GPU",
    "colab": {
      "collapsed_sections": [
        "2fulj_lDHJ9s",
        "mVu1jYYr3WYc",
        "YjLQ34503hhV"
      ],
      "gpuType": "T4",
      "provenance": [],
      "include_colab_link": true
    },
    "kernelspec": {
      "display_name": "Python 3",
      "name": "python3"
    },
    "language_info": {
      "name": "python"
    }
  },
  "nbformat": 4,
  "nbformat_minor": 0
}